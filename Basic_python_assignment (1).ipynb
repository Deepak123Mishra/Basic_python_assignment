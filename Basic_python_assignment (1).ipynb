{
  "cells": [
    {
      "cell_type": "markdown",
      "source": [
        "# BASIC PYTHON ASSIGNMENT"
      ],
      "metadata": {
        "id": "4U1zkExVl5x-"
      }
    },
    {
      "cell_type": "markdown",
      "source": [
        "1. What is Python, and why is it popular?\n",
        "   - python is programming language,which is invented in 20 feb 1990 by Guido Van Rossum.\n",
        "  *python is popular due to-\n",
        "  - 1.its an easy to learn.\n",
        "  - 2.its a versetile in industries.\n",
        "  - 3.its provide community support.\n",
        "\n",
        "\n",
        "\n",
        "2. What is an interpreter in Python?\n",
        " - In python interpreter is a program that read and execute python  \n",
        "   code line by line.\n",
        "\n",
        "\n",
        "\n",
        "3. what is predefine Keywords in pyhon?\n",
        " - predefine is word which is define by keyword, that python reserve\n",
        "   for working programs that have specific meaning.\n",
        " - we can not use keyword as a variable.\n",
        "\n",
        "4. Can keywords is use as a variable?\n",
        " - No, keyword can not use as a variable.\n",
        "\n",
        "5. what is mutability in python ?\n",
        " - The ability o fan object to change after creation.\n",
        " - mutable object can be modified in term of their state and content.\n",
        "  example- list,dictionary.\n",
        "\n",
        "\n",
        "6. why are list is mutable and tuple is immutable?\n",
        " - LIST:- thats because list contain string or number and they not\n",
        "   contain reference to another object thats why list are mutable.\n",
        " - TUPLE:- Thats not contain list,string or numbers. They contain\n",
        "   to reference to other object. Thats why tuple are immutable.\n",
        "\n",
        "7. what is the difference between \"==\" and \"is\" operator in python?\n",
        " - \"==\" operator:- The \"==\" operator in python is a comparision\n",
        "   operator use to check if the values on either side of it are equal\n",
        "   ,If evaluate to true  if the values are equal and if evaluate false if value are not equal.\n",
        "   Ex:- print(10==10) #o/p True\n",
        "        print(10==100) #o/p False\n",
        "\n",
        " - \"is\" operator:- The \"is\" operator in python is used to check if two\n",
        "   variable refers to same object in memory.\n",
        "   It compare the identities of object ,not their values.\n",
        "   Ex:-  a = [1,2,3]\n",
        "         b = a\n",
        "         print(a is b) #o/p True\n",
        "\n",
        "\n",
        "         a = [1,2,3]\n",
        "         b = [1,2,3]\n",
        "         print(a is b) #o/p False\n",
        "\n",
        "8. what are the logical operators in python?\n",
        " - Logical operator are used to combine multiple condition and  \n",
        "   evaluate then as in single boolean expression.\n",
        "   There sre three main logical operator in python ie. \"AND\",\"OR\" and \"NOT\".\n",
        "\n",
        "9. What are the type casting in python?\n",
        " - Type casting is also known as type conversion,it is the process of\n",
        "   changing the data type of variable from one to another.\n",
        " - python provide built in function  to perform various type of\n",
        "   conversion.\n",
        "   ie-\n",
        "      - 1.Implicit type conversion\n",
        "      - 2.Explicit type conversion\n",
        "\n",
        "\n",
        "10. What are the difference between implicit type  and explicit type\n",
        "  casting?\n",
        "  - Implicit type casting:- Python automatically performs implicit  \n",
        "   type casting in certain situation to prevent error.\n",
        "   ex:-\n",
        "       -  x = (10)  #intiger\n",
        "       -  y = (3.4) #float\n",
        "       -  result = (x+y)  #o/p float\n",
        "\n",
        " - Explicit type casting:- Here, we can explicitly convert data types\n",
        "   using built in function.\n",
        "   eg:- int()\n",
        "        float()\n",
        "        str()\n",
        "        bool()\n",
        "        list()\n",
        "        tuple()\n",
        "        set()\n",
        "        dict()\n",
        "        Ex:-   \n",
        "            - x = 3.4 #float\n",
        "            - y = int(x) #o/p int,y=3\n",
        "11. What is the purpose of conditional statement in python?\n",
        " -  Conditional statement in python control the flow of a program by\n",
        "     deciding which code to execute based on certain condition.\n",
        " -  conditional statement is also known as decision making statement.\n",
        "     which are:-\n",
        "         - if.\n",
        "         - elif.\n",
        "         - if else-if else.\n",
        "         - nested if-else.\n",
        "\n",
        " 12. How does elif astatement work?\n",
        "  -  The \"elif\" keyword in python, stand for \"else if\" it can be used\n",
        "     in conditional for check multiple conditions.\n",
        "      eg:-\n",
        "        - x = 10\n",
        "        - if x>20:\n",
        "        -   print(\"x is bigger than 20\")\n",
        "        - elif x=20:\n",
        "        -   print(\"x is equal to 20\")\n",
        "        - else:\n",
        "        -    print(\" is smaller than 20\")\n",
        "\n",
        " 13. What is the difference between for and while loops?\n",
        "   - For loop is used when number of iteration is already known.\n",
        "   - While loop is used when the number of iteration is already\n",
        "     unknown. In while loop,it can be repeated at every iteration.\n",
        "\n",
        " 14. Describe the scenario where while loop is more suitable then a  \n",
        "     for loop ?\n",
        "   - A while loop is more suitable than a for loop when the number of\n",
        "     iteration is unknown beforehand and depends on a certain condition being met.\n",
        "   - SCENARIO:- USER AUTHENTICATION SYSTEM\n",
        "     Imagine a login system where a has up to thee attempts to enter the correct password. A while loop is ideal because we dont necessarily know how many attempts the user wiil need(the might get it right on the first or second try).   \n"
      ],
      "metadata": {
        "id": "s2D6wAw_mNGG"
      }
    },
    {
      "cell_type": "code",
      "source": [
        "# PRACTICAL QUESTION #\n",
        "#1. Write python program to print \"Hello World!\")\n",
        "print(\"Hello World!\")"
      ],
      "metadata": {
        "colab": {
          "base_uri": "https://localhost:8080/"
        },
        "id": "f6X19m66fAYL",
        "outputId": "71a31c77-407c-4557-d330-7a4658f82fd1"
      },
      "execution_count": 6,
      "outputs": [
        {
          "output_type": "stream",
          "name": "stdout",
          "text": [
            "Hello World!\n"
          ]
        }
      ]
    },
    {
      "cell_type": "code",
      "source": [
        "#2 Write program to display your name and age.\n",
        "print(\"Name=Deepak Mishra,Age=20year!\")"
      ],
      "metadata": {
        "colab": {
          "base_uri": "https://localhost:8080/"
        },
        "id": "2K73p1OCfEQr",
        "outputId": "06d4da88-e960-4a7b-f002-492f0e900099"
      },
      "execution_count": 7,
      "outputs": [
        {
          "output_type": "stream",
          "name": "stdout",
          "text": [
            "Name=Deepak Mishra,Age=20year!\n"
          ]
        }
      ]
    },
    {
      "cell_type": "code",
      "source": [
        "#3 Write a code to print all predefine keywords in python using the keyword library.\n",
        "help(\"keyword\")"
      ],
      "metadata": {
        "colab": {
          "base_uri": "https://localhost:8080/"
        },
        "collapsed": true,
        "id": "zbQX2W7xhT9V",
        "outputId": "dc2f8117-fa32-4351-fb25-db39e5eb354c"
      },
      "execution_count": 8,
      "outputs": [
        {
          "output_type": "stream",
          "name": "stdout",
          "text": [
            "Help on module keyword:\n",
            "\n",
            "NAME\n",
            "    keyword - Keywords (from \"Grammar/python.gram\")\n",
            "\n",
            "MODULE REFERENCE\n",
            "    https://docs.python.org/3.11/library/keyword.html\n",
            "    \n",
            "    The following documentation is automatically generated from the Python\n",
            "    source files.  It may be incomplete, incorrect or include features that\n",
            "    are considered implementation detail and may vary between Python\n",
            "    implementations.  When in doubt, consult the module reference at the\n",
            "    location listed above.\n",
            "\n",
            "DESCRIPTION\n",
            "    This file is automatically generated; please don't muck it up!\n",
            "    \n",
            "    To update the symbols in this file, 'cd' to the top directory of\n",
            "    the python source tree and run:\n",
            "    \n",
            "        PYTHONPATH=Tools/peg_generator python3 -m pegen.keywordgen         Grammar/python.gram         Grammar/Tokens         Lib/keyword.py\n",
            "    \n",
            "    Alternatively, you can run 'make regen-keyword'.\n",
            "\n",
            "FUNCTIONS\n",
            "    iskeyword = __contains__(...) method of builtins.frozenset instance\n",
            "        x.__contains__(y) <==> y in x.\n",
            "    \n",
            "    issoftkeyword = __contains__(...) method of builtins.frozenset instance\n",
            "        x.__contains__(y) <==> y in x.\n",
            "\n",
            "DATA\n",
            "    __all__ = ['iskeyword', 'issoftkeyword', 'kwlist', 'softkwlist']\n",
            "    kwlist = ['False', 'None', 'True', 'and', 'as', 'assert', 'async', 'aw...\n",
            "    softkwlist = ['_', 'case', 'match']\n",
            "\n",
            "FILE\n",
            "    /usr/lib/python3.11/keyword.py\n",
            "\n",
            "\n"
          ]
        }
      ]
    },
    {
      "cell_type": "code",
      "source": [
        "#4 Write a program that check if a given word is python keyword.\n",
        "import keyword\n",
        "def check_keyword(word):\n",
        "  if keyword.iskeyword(word):\n",
        "    print(f\"'{word}' is a python keyword.\")\n",
        "  else:\n",
        "    print(f\"'{word}' is not a python keyword.\")\n",
        "word = input(\"enter word:\")\n",
        "check_keyword(word)"
      ],
      "metadata": {
        "colab": {
          "base_uri": "https://localhost:8080/"
        },
        "collapsed": true,
        "id": "mzRrcWldhXOQ",
        "outputId": "facda4ee-dc65-42fc-b032-515ab5f4f347"
      },
      "execution_count": 11,
      "outputs": [
        {
          "output_type": "stream",
          "name": "stdout",
          "text": [
            "enter word:if\n",
            "'if' is a python keyword.\n"
          ]
        }
      ]
    },
    {
      "cell_type": "code",
      "source": [
        "#5 Create a list and tulpe in python, and demonstrate how attempting to change an element work differently for each?\n",
        "\n",
        "\"\"\"\n",
        " In python list are mutable and tuple are immutable where list can be modify and tuple can not be modify after a creation of object.\n",
        "\"\"\"\n",
        "#List\n",
        "my_list = [1,2,3]\n",
        "print(\"original list:\",my_list)\n",
        "#modifying list\n",
        "my_list[1] = 42\n",
        "print(\"modifying list:\",my_list)\n",
        "\n",
        "#Tuple\n",
        "my_tuple = (1,2,3)\n",
        "print(\"original tuple:\",my_tuple)\n",
        "#attempting to modify the element (raise error)\n",
        "try:\n",
        "    my_tuple[1] = 42\n",
        "except TypeError as e :\n",
        "    print(\"error:\",e)\n",
        "\n"
      ],
      "metadata": {
        "colab": {
          "base_uri": "https://localhost:8080/"
        },
        "id": "T39L1jZbhW6x",
        "outputId": "84c203bc-7bef-461f-805b-657576b8b3ad"
      },
      "execution_count": 15,
      "outputs": [
        {
          "output_type": "stream",
          "name": "stdout",
          "text": [
            "original list: [1, 2, 3]\n",
            "modifying list: [1, 42, 3]\n",
            "original tuple: (1, 2, 3)\n",
            "error: 'tuple' object does not support item assignment\n"
          ]
        }
      ]
    },
    {
      "cell_type": "code",
      "source": [
        "#6 Write a function to demonstrate the behaviour of mutable and immutable arguments.\n",
        "\"\"\"\n",
        "   Function: A block of reusable code that performs a specific task. You define it using the def keyword in Python.\n",
        "   Arguments: The values you provide to a function when you call it. They are enclosed in parentheses after the function's name.\n",
        "   Mutable Arguments: Data types like list, dict, and set that can be modified after they are created. When you pass a mutable argument to a function, any changes made to the argument inside the function will also affect the original object outside the function.\n",
        "   Immutable Arguments: Data types like int, float, str, and tuple that cannot be changed after they are created. When you pass an immutable argument to a function, any modifications made inside the function create a new object, leaving the original object unchanged.\n",
        "\"\"\"\n"
      ],
      "metadata": {
        "id": "V7Pl83JrhWhG"
      },
      "execution_count": null,
      "outputs": []
    },
    {
      "cell_type": "code",
      "source": [
        "#7 write a program that perform basic Arithmatic operation on two user input numbers.\n",
        " #Get input from the user\n",
        "num1 = float(input(\"Enter the first number: \"))\n",
        "num2 = float(input(\"Enter the second number: \"))\n",
        "\n",
        "# Perform arithmetic operations\n",
        "addition = num1 + num2\n",
        "subtraction = num1 - num2\n",
        "multiplication = num1 * num2\n",
        "division = num1 / num2\n",
        "\n",
        "# Display the results\n",
        "print(\"Addition:\", addition)\n",
        "print(\"Subtraction:\", subtraction)\n",
        "print(\"Multiplication:\", multiplication)\n",
        "print(\"Division:\", division)"
      ],
      "metadata": {
        "colab": {
          "base_uri": "https://localhost:8080/"
        },
        "id": "09WvV5OChWS4",
        "outputId": "f9369474-553e-42f5-ed27-af698af3a028"
      },
      "execution_count": 16,
      "outputs": [
        {
          "output_type": "stream",
          "name": "stdout",
          "text": [
            "Enter the first number: 4\n",
            "Enter the second number: 2\n",
            "Addition: 6.0\n",
            "Subtraction: 2.0\n",
            "Multiplication: 8.0\n",
            "Division: 2.0\n"
          ]
        }
      ]
    },
    {
      "cell_type": "code",
      "source": [
        "#8 Write the program to demonstate the use of logical operators.\n",
        "a = int(input(\"Enter the first number:\"))\n",
        "b = int(input(\"Enter the second number:\"))\n",
        "#logical AND\n",
        "print(\"both number is positive:\",a>0 and b>0)\n",
        "#logical OR\n",
        "print(\"atleast one number is positive:\",a>0 or b>0)\n",
        "#logical NOT\n",
        "print(\"first number is not positive:\",not(a>0))\n",
        "print(\"second number is not positive:\",not(b>0))\n",
        "\n"
      ],
      "metadata": {
        "colab": {
          "base_uri": "https://localhost:8080/"
        },
        "id": "YqpEPkNFhWGh",
        "outputId": "30dd0490-a189-439f-de94-5d4712566d39"
      },
      "execution_count": 17,
      "outputs": [
        {
          "output_type": "stream",
          "name": "stdout",
          "text": [
            "Enter the first number:4\n",
            "Enter the second number:-6\n",
            "both number is positive: False\n",
            "atleast one number is positive: True\n",
            "first number is not positive: False\n",
            "second number is not positive: True\n"
          ]
        }
      ]
    },
    {
      "cell_type": "code",
      "source": [
        "#9 write a python program to convert user input from string to intiger,float and boolean types.\n",
        "user_input = input(\"Enter a value\")\n",
        "intiger_value = int(user_input)\n",
        "float_value = float(user_input)\n",
        "boolean_value = bool(user_input)\n",
        "print(\"intiger value:\",intiger_value)\n",
        "print(\"float value:\",float_value)\n",
        "print(\"boolean value:\",boolean_value)"
      ],
      "metadata": {
        "colab": {
          "base_uri": "https://localhost:8080/"
        },
        "id": "RY02u337hV4r",
        "outputId": "e0eeee6a-ca21-44e9-a853-99cce504592a"
      },
      "execution_count": 21,
      "outputs": [
        {
          "output_type": "stream",
          "name": "stdout",
          "text": [
            "Enter a value7\n",
            "intiger value: 7\n",
            "float value: 7.0\n",
            "boolean value: True\n"
          ]
        }
      ]
    },
    {
      "cell_type": "code",
      "source": [
        "#10 Write code to demonstrate type casting with list element.\n",
        "my_list = [\"1\", \"2\", \"3.14\"] # List with elements as strings\n",
        "\n",
        "# Type casting list elements to integers:\n",
        "int_list = [int(x) for x in my_list if x.isdigit()]\n",
        "\n",
        "# Type casting list elements to floats:\n",
        "float_list = [float(x) for x in my_list]\n",
        "\n",
        "print(\"Original list:\", my_list)\n",
        "print(\"List with integers:\", int_list)\n",
        "print(\"List with floats:\", float_list)"
      ],
      "metadata": {
        "colab": {
          "base_uri": "https://localhost:8080/"
        },
        "id": "-7KYWJ2yhVrc",
        "outputId": "a15c9551-2ae4-42f9-c8f6-b4ea155a6b7c"
      },
      "execution_count": 22,
      "outputs": [
        {
          "output_type": "stream",
          "name": "stdout",
          "text": [
            "Original list: ['1', '2', '3.14']\n",
            "List with integers: [1, 2]\n",
            "List with floats: [1.0, 2.0, 3.14]\n"
          ]
        }
      ]
    },
    {
      "cell_type": "code",
      "source": [
        "#11 write a program to check a number is positive,negative or zero.\n",
        "num = float(input(\"Enter a number:\"))\n",
        "if num>0:\n",
        "  print(\"number is positive\")\n",
        "elif num<0:\n",
        "  print(\"number is negative\")\n",
        "else:\n",
        "  print(\"number is zero\")"
      ],
      "metadata": {
        "colab": {
          "base_uri": "https://localhost:8080/"
        },
        "id": "YZy5wMSX3xGd",
        "outputId": "fcefe067-0df1-4d55-a4d2-06b92257391c"
      },
      "execution_count": 24,
      "outputs": [
        {
          "output_type": "stream",
          "name": "stdout",
          "text": [
            "Enter a number:-8.99\n",
            "number is negative\n"
          ]
        }
      ]
    },
    {
      "cell_type": "code",
      "source": [
        "#12 write a for loop to print a number from 1 to 10.\n",
        "for num in range(1,11):\n",
        "  print(num)"
      ],
      "metadata": {
        "colab": {
          "base_uri": "https://localhost:8080/"
        },
        "id": "McUAkmAx3xCh",
        "outputId": "1dfc339d-dfb1-4609-9341-a169417e9c8c"
      },
      "execution_count": 26,
      "outputs": [
        {
          "output_type": "stream",
          "name": "stdout",
          "text": [
            "1\n",
            "2\n",
            "3\n",
            "4\n",
            "5\n",
            "6\n",
            "7\n",
            "8\n",
            "9\n",
            "10\n"
          ]
        }
      ]
    },
    {
      "cell_type": "code",
      "source": [
        "#13 Write a python program to find the sum of all even numbers between 1 to 50.\n",
        "sum_even = 0\n",
        "for num in range(2,51,2):\n",
        "  sum_even += num\n",
        "print(\"sum of even number between 1 to 50 is:\",sum_even)"
      ],
      "metadata": {
        "colab": {
          "base_uri": "https://localhost:8080/"
        },
        "id": "WHgw2Kpt3w_C",
        "outputId": "735e3896-f2df-4ff1-8823-bef0060a358e"
      },
      "execution_count": 27,
      "outputs": [
        {
          "output_type": "stream",
          "name": "stdout",
          "text": [
            "sum of even number between 1 to 50 is: 650\n"
          ]
        }
      ]
    },
    {
      "cell_type": "code",
      "source": [
        "#14 Write a program to reverse a string using while loop.\n",
        "text = input(\"Enter a string\")\n",
        "index = len(text) - 1\n",
        "reversed_text = \"\"\n",
        "while index >= 0:\n",
        "  reversed_text += text[index]\n",
        "  index -= 1\n",
        "print(\"reversed string:\",reversed_text)"
      ],
      "metadata": {
        "colab": {
          "base_uri": "https://localhost:8080/"
        },
        "id": "929pnYbW3w75",
        "outputId": "296724cf-6116-4840-e612-3d1b4d61774f"
      },
      "execution_count": 29,
      "outputs": [
        {
          "output_type": "stream",
          "name": "stdout",
          "text": [
            "Enter a stringrahul\n",
            "reversed string: luhar\n"
          ]
        }
      ]
    },
    {
      "cell_type": "code",
      "source": [
        "#15 write a python program to calculate the factorial of number provided by user.\n",
        "num = int(input(\"Enter a number:\"))\n",
        "factorial = 1\n",
        "i = num\n",
        "if num < 0:\n",
        "  print(\"factorial does not exist for negative number\")\n",
        "elif num == 0 or num == 1:\n",
        "  print(\"factorial of\",num,\"is 1\")\n",
        "else:\n",
        "  while i > 1:\n",
        "    factorial *= i\n",
        "    i -= 1\n",
        "  print(\"factorial of\",num,\"is\",factorial)"
      ],
      "metadata": {
        "colab": {
          "base_uri": "https://localhost:8080/"
        },
        "id": "YyWiYKyg3wv1",
        "outputId": "40d85013-4b7e-41a3-d369-faede56c2cac"
      },
      "execution_count": 30,
      "outputs": [
        {
          "output_type": "stream",
          "name": "stdout",
          "text": [
            "Enter a number:5\n",
            "factorial of 5 is 120\n"
          ]
        }
      ]
    }
  ],
  "metadata": {
    "colab": {
      "toc_visible": true,
      "provenance": []
    },
    "kernelspec": {
      "display_name": "Python 3",
      "name": "python3"
    }
  },
  "nbformat": 4,
  "nbformat_minor": 0
}